{
 "cells": [
  {
   "cell_type": "markdown",
   "id": "3ecbc154-4a9d-4b02-9840-e1d59066c9e2",
   "metadata": {},
   "source": [
    "\n",
    "> *Pandas is simple library . It just helps us efficiently perform operations on rows and columns of a CSV file: a single row (or column) is a Series, and multiple rows and columns form a DataFrame.*\n",
    "\n",
    "\n",
    "## **Why Use Pandas?**\n",
    "\n",
    "| Task | Without Pandas | With Pandas |\n",
    "| :--- | :--- | :--- |\n",
    "| Load a CSV | `open()` + loops | `pd.read_csv()` |\n",
    "| Filter rows | Custom loop logic | `df[df[\"col\"] > 5]` |\n",
    "| Group & summarize | Manual aggregation | `df.groupby()` |\n",
    "| Merge two datasets | Nested loops | `pd.merge()` |\n",
    "\n",
    "Pandas saves time, reduces code, and increases readability.\n",
    "\n",
    "---\n",
    "\n",
    "## **Pandas vs. Excel vs. SQL vs. NumPy**\n",
    "\n",
    "| Tool | Strengths | Weaknesses |\n",
    "| :--- | :--- | :--- |\n",
    "| **Excel** | Easy UI, great for small data | Slow, manual, not scalable |\n",
    "| **SQL** | Efficient querying of big data | Not ideal for transformation logic |\n",
    "| **NumPy** | Fast, low-level array operations | No labels, harder for tabular data |\n",
    "| **Pandas** | Label-aware, fast, flexible | Slightly steep learning curve |\n",
    "\n",
    "---\n"
   ]
  },
  {
   "cell_type": "markdown",
   "id": "e4481b56-dcd5-43d3-8195-46739b65f173",
   "metadata": {},
   "source": [
    "\n",
    "## **What is Pandas?** 🐼\n",
    "\n",
    "\n",
    "Pandas is a powerful, open-source Python library used for **data manipulation, cleaning, and analysis**. It provides two main data structures:\n",
    "\n",
    "* **Series**: A one-dimensional labeled array.\n",
    "* **DataFrame**: A two-dimensional labeled table (like an Excel sheet ~ **just rows and columns**).\n",
    "\n",
    "Pandas makes working with structured data fast, expressive, and flexible.\n",
    "\n",
    "> If you are working with tables, spreadsheets, or CSVs in Python, Pandas is your best friend.\n",
    "\n",
    "---"
   ]
  },
  {
   "cell_type": "markdown",
   "id": "397cabb7",
   "metadata": {},
   "source": [
    "📍 **Series Advantage And Proof of Advantage**\n",
    "\n",
    "1. Fast vectorized operations\n",
    "2. Automatic index alignment\n",
    "3. Handles missing data (`NaN`)\n",
    "4. Label and position access\n",
    "5. Integrates seamlessly with DataFrames"
   ]
  },
  {
   "cell_type": "code",
   "execution_count": 20,
   "id": "faab5e9d-9bda-476c-9419-d13dabb196ed",
   "metadata": {},
   "outputs": [
    {
     "name": "stdout",
     "output_type": "stream",
     "text": [
      "--- Original Series ---\n",
      "a    10\n",
      "b    20\n",
      "c    30\n",
      "d    40\n",
      "dtype: int64\n",
      "\n",
      "Requires a loop {'a': 20, 'b': 40, 'c': 60, 'd': 80} \n",
      "\n",
      "Vectorization\n",
      " a    20\n",
      "b    40\n",
      "c    60\n",
      "d    80\n",
      "dtype: int64\n",
      "========================================\n",
      "\n"
     ]
    }
   ],
   "source": [
    "import pandas as pd\n",
    "\n",
    "s = pd.Series([10, 20, 30, 40])\n",
    "data_dict = {\"a\": 10, \"b\": 20, \"c\": 30, \"d\": 40}\n",
    "series = pd.Series(data_dict)\n",
    "print(\"--- Original Series ---\")\n",
    "print(series)\n",
    "\n",
    "\"\"\"1 - Vectorized Operations\"\"\"\n",
    "\n",
    "# Without Pandas (requires a loop)\n",
    "dict_multiplied = {key: value * 2 for key, value in data_dict.items()}\n",
    "print(\"\\nRequires a loop\", dict_multiplied,\"\\n\")\n",
    "\n",
    "# With Pandas (vectorized)\n",
    "series_multiplied = series * 2  # With a Series (vectorized)\n",
    "print(\"Vectorization\\n\", series_multiplied)\n",
    "print(\"=\" * 40 + \"\\n\")"
   ]
  },
  {
   "cell_type": "code",
   "execution_count": 22,
   "id": "e8b971c1-305c-4731-8345-5e09622a9f6d",
   "metadata": {},
   "outputs": [
    {
     "name": "stdout",
     "output_type": "stream",
     "text": [
      "0    10\n",
      "1    20\n",
      "2    30\n",
      "3    40\n",
      "dtype: int64 \n",
      "\n",
      "Rajat    10\n",
      "Simba    20\n",
      "Coco     30\n",
      "Joe      40\n",
      "dtype: int64\n"
     ]
    }
   ],
   "source": [
    "\"\"\"2 - Automatic Index Alignment\"\"\"\n",
    "\n",
    "s = pd.Series([10, 20, 30, 40])\n",
    "print(s, \"\\n\")\n",
    "\n",
    "# Custom Indexing\n",
    "s = pd.Series([10, 20, 30, 40], index=[\"Rajat\", \"Simba\", \"Coco\", \"Joe\"])\n",
    "print(s)"
   ]
  },
  {
   "cell_type": "code",
   "execution_count": 23,
   "id": "1d85c94e",
   "metadata": {},
   "outputs": [
    {
     "name": "stdout",
     "output_type": "stream",
     "text": [
      "Series with a missing value:\n",
      " 0    100.0\n",
      "1    200.0\n",
      "2      NaN\n",
      "3    400.0\n",
      "dtype: float64\n",
      "\n",
      "The sum of the series is: 700.0\n"
     ]
    }
   ],
   "source": [
    "\"\"\"3 - Handles Missing Data (NaN)\"\"\"\n",
    "\n",
    "data_with_missing = pd.Series([100, 200, None, 400])\n",
    "print(\"Series with a missing value:\\n\", data_with_missing)\n",
    "\n",
    "# Most pandas operations automatically handle NaN\n",
    "total_sum = data_with_missing.sum()\n",
    "print(f\"\\nThe sum of the series is: {total_sum}\")"
   ]
  },
  {
   "cell_type": "code",
   "execution_count": 24,
   "id": "ba1b79ec",
   "metadata": {},
   "outputs": [
    {
     "name": "stdout",
     "output_type": "stream",
     "text": [
      "Series for access demonstration:\n",
      " first     10\n",
      "second    20\n",
      "third     30\n",
      "dtype: int64\n",
      "\n",
      "Access by label 'second': 20\n",
      "Access by position 0 (.iloc[0]): 10\n"
     ]
    }
   ],
   "source": [
    "\"\"\"4 - Label and Position Access\"\"\"\n",
    "\n",
    "access_series = pd.Series([10, 20, 30], index=[\"first\", \"second\", \"third\"])\n",
    "print(\"Series for access demonstration:\\n\", access_series)\n",
    "\n",
    "# Access by label (like a dictionary)\n",
    "label_access = access_series[\"second\"]\n",
    "print(f\"\\nAccess by label 'second': {label_access}\")\n",
    "\n",
    "# Access by integer position (like a list) using .iloc\n",
    "position_access = access_series.iloc[0]\n",
    "print(f\"Access by position 0 (.iloc[0]): {position_access}\")"
   ]
  },
  {
   "cell_type": "code",
   "execution_count": 27,
   "id": "493ae1f3",
   "metadata": {},
   "outputs": [
    {
     "name": "stdout",
     "output_type": "stream",
     "text": [
      "0      Alice\n",
      "1        Bob\n",
      "2    Charlie\n",
      "Name: Name, dtype: object \n",
      "\n",
      "0    25\n",
      "1    30\n",
      "2    35\n",
      "Name: Age, dtype: int64 \n",
      "\n",
      "0       New York\n",
      "1    Los Angeles\n",
      "2        Chicago\n",
      "Name: City, dtype: object \n",
      "\n",
      "DataFrame created from multiple Series:\n",
      "\n",
      "      Name  Age         City\n",
      "0    Alice   25     New York\n",
      "1      Bob   30  Los Angeles\n",
      "2  Charlie   35      Chicago\n"
     ]
    }
   ],
   "source": [
    "\"\"\"5 - Integrates Seamlessly with DataFrames\"\"\"\n",
    "\n",
    "names = pd.Series([\"Alice\", \"Bob\", \"Charlie\"], name=\"Name\")\n",
    "print(names,\"\\n\")\n",
    "ages = pd.Series([25, 30, 35], name=\"Age\")\n",
    "print(ages,\"\\n\")\n",
    "cities = pd.Series([\"New York\", \"Los Angeles\", \"Chicago\"], name=\"City\")\n",
    "print(cities,\"\\n\")\n",
    "\n",
    "# Create a DataFrame from Series\n",
    "df = pd.DataFrame({\"Name\": names, \"Age\": ages, \"City\": cities})\n",
    "print(\"DataFrame created from multiple Series:\\n\")\n",
    "print(df)"
   ]
  }
 ],
 "metadata": {
  "kernelspec": {
   "display_name": "Pandas (3.11.13)",
   "language": "python",
   "name": "python3"
  },
  "language_info": {
   "codemirror_mode": {
    "name": "ipython",
    "version": 3
   },
   "file_extension": ".py",
   "mimetype": "text/x-python",
   "name": "python",
   "nbconvert_exporter": "python",
   "pygments_lexer": "ipython3",
   "version": "3.11.13"
  }
 },
 "nbformat": 4,
 "nbformat_minor": 5
}
