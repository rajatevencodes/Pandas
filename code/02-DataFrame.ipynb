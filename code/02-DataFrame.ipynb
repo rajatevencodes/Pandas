{
 "cells": [
  {
   "cell_type": "markdown",
   "id": "133daf18",
   "metadata": {},
   "source": [
    "**📍 Ways to Create a DataFrame**\n",
    "\n",
    "- From Python lists\n",
    "- Using a dictionary of lists\n",
    "- With NumPy arrays\n",
    "- Importing from a CSV file\n",
    "- Importing from an Excel file (*will not perform this*)\n",
    "- Loading data from SQL databases\n",
    "- Reading JSON files\n",
    "- Fetching CSV data from a web URL\n",
    "\n",
    "*Common DataFrame commands:*\n",
    "- `df.head()` – First 5 rows  \n",
    "- `df.tail()` – Last 5 rows  \n",
    "- `df.info()` – Column info  \n",
    "- `df.describe()` – Stats summary  \n",
    "- `df.columns` – Column names  \n",
    "- `df.shape` – Rows & columns count\n"
   ]
  },
  {
   "cell_type": "code",
   "execution_count": 1,
   "id": "233ddf45",
   "metadata": {},
   "outputs": [
    {
     "name": "stdout",
     "output_type": "stream",
     "text": [
      "      Name  Age\n",
      "0    Alice   25\n",
      "1      Bob   30\n",
      "2  Charlie   35\n"
     ]
    }
   ],
   "source": [
    "import pandas as pd\n",
    "\n",
    "# 1 - Python List\n",
    "data = [[\"Alice\", 25], [\"Bob\", 30], [\"Charlie\", 35]]\n",
    "df = pd.DataFrame(data, columns=[\"Name\", \"Age\"])\n",
    "print(df)"
   ]
  },
  {
   "cell_type": "code",
   "execution_count": 2,
   "id": "054f037a",
   "metadata": {},
   "outputs": [
    {
     "name": "stdout",
     "output_type": "stream",
     "text": [
      "\n",
      "DataFrame from dictionary:\n",
      "       Name  Age\n",
      "0    Alice   25\n",
      "1      Bob   30\n",
      "2  Charlie   35\n"
     ]
    }
   ],
   "source": [
    "# 2 - Dictionary\n",
    "data_dict = {\n",
    "    \"Name\": [\"Alice\", \"Bob\", \"Charlie\"],\n",
    "    \"Age\": [25, 30, 35]\n",
    "}\n",
    "df_dict = pd.DataFrame(data_dict)\n",
    "print(\"\\nDataFrame from dictionary:\\n\", df_dict)"
   ]
  },
  {
   "cell_type": "code",
   "execution_count": 3,
   "id": "c9276c18",
   "metadata": {},
   "outputs": [
    {
     "name": "stdout",
     "output_type": "stream",
     "text": [
      "\n",
      "DataFrame from NumPy array:\n",
      "       Name Age\n",
      "0    Alice  25\n",
      "1      Bob  30\n",
      "2  Charlie  35\n"
     ]
    }
   ],
   "source": [
    "# 3 - NumPy Array\n",
    "import numpy as np\n",
    "data_array = np.array([[\"Alice\", 25], [\"Bob\", 30], [\"Charlie\", 35]])\n",
    "df_array = pd.DataFrame(data_array, columns=[\"Name\", \"Age\"])\n",
    "print(\"\\nDataFrame from NumPy array:\\n\", df_array)"
   ]
  },
  {
   "cell_type": "code",
   "execution_count": null,
   "id": "ce90353a",
   "metadata": {},
   "outputs": [
    {
     "name": "stdout",
     "output_type": "stream",
     "text": [
      "\n",
      "DataFrame from CSV file:\n",
      "      Name  Age  Gender    Country\n",
      "0    John   28    Male        USA\n",
      "1    Emma   22  Female     Canada\n",
      "2    Liam   31    Male         UK\n",
      "3  Olivia   27  Female  Australia\n",
      "4    Noah   24    Male        USA\n",
      "\n",
      "DataFrame from CSV with options:\n",
      "      Name  Age\n",
      "0    John   28\n",
      "1    Emma   22\n",
      "2    Liam   31\n",
      "3  Olivia   27\n",
      "4    Noah   24\n"
     ]
    }
   ],
   "source": [
    "import pandas as pd\n",
    "\n",
    "# Read the CSV file\n",
    "df_csv = pd.read_csv('../assets/data/random.csv')\n",
    "print(\"\\nDataFrame from CSV file:\\n\", df_csv)\n",
    "\n",
    "# Read with options\n",
    "df_csv = pd.read_csv(\n",
    "    '../assets/data/random.csv',\n",
    "    sep=',',\n",
    "    header=0,\n",
    "    usecols=['Name', 'Age'],\n",
    "    nrows=5\n",
    ")\n",
    "print(\"\\nDataFrame from CSV with options:\\n\", df_csv)"
   ]
  },
  {
   "cell_type": "code",
   "execution_count": 16,
   "id": "c5581c2f",
   "metadata": {},
   "outputs": [
    {
     "name": "stdout",
     "output_type": "stream",
     "text": [
      "\n",
      "DataFrame from SQL query:\n",
      "    id     name  age\n",
      "0   1    Alice   25\n",
      "1   2      Bob   30\n",
      "2   3  Charlie   35\n"
     ]
    }
   ],
   "source": [
    "# 5 - SQL Database\n",
    "import sqlite3\n",
    "\n",
    "conn = sqlite3.connect(\"mydb.sqlite\")\n",
    "cursor = conn.cursor()\n",
    "\n",
    "# Create table\n",
    "cursor.execute(\n",
    "    \"\"\"\n",
    "CREATE TABLE IF NOT EXISTS users (\n",
    "    id INTEGER PRIMARY KEY,\n",
    "    name TEXT,\n",
    "    age INTEGER\n",
    ")\"\"\"\n",
    ")\n",
    "\n",
    "# Insert some sample data\n",
    "cursor.executemany(\n",
    "    \"INSERT INTO users (name, age) VALUES (?, ?)\",\n",
    "    [(\"Alice\", 25), (\"Bob\", 30), (\"Charlie\", 35)],\n",
    ")\n",
    "\n",
    "conn.commit()\n",
    "conn.close()\n",
    "\n",
    "import sqlite3\n",
    "import pandas as pd\n",
    "\n",
    "conn = sqlite3.connect(\"mydb.sqlite\")\n",
    "df = pd.read_sql(\"SELECT * FROM users\", conn)\n",
    "print(\"\\nDataFrame from SQL query:\\n\", df)\n",
    "\n",
    "conn.close()  # Close connection after use"
   ]
  },
  {
   "cell_type": "code",
   "execution_count": null,
   "id": "1a1783ec",
   "metadata": {},
   "outputs": [
    {
     "name": "stdout",
     "output_type": "stream",
     "text": [
      "\n",
      "DataFrame from JSON file:\n",
      "    id     name  age         city  score\n",
      "0   1    Alice   28     New York   85.5\n",
      "1   2      Bob   34  Los Angeles   92.0\n",
      "2   3  Charlie   22      Chicago   78.3\n",
      "3   4    Diana   30      Houston   88.7\n",
      "4   5    Ethan   25      Phoenix   91.2\n"
     ]
    }
   ],
   "source": [
    "# 6 - JSON File\n",
    "import json\n",
    "with open('../assets/data/random.json', 'r') as file:\n",
    "    data_json = json.load(file)\n",
    "df_json = pd.DataFrame(data_json)\n",
    "print(\"\\nDataFrame from JSON file:\\n\", df_json)"
   ]
  },
  {
   "cell_type": "code",
   "execution_count": null,
   "id": "f39eceb6",
   "metadata": {},
   "outputs": [
    {
     "name": "stdout",
     "output_type": "stream",
     "text": [
      "\n",
      "First few rows of the DataFrame loaded from the web URL:\n",
      "    total_bill   tip     sex smoker  day    time  size\n",
      "0       16.99  1.01  Female     No  Sun  Dinner     2\n",
      "1       10.34  1.66    Male     No  Sun  Dinner     3\n",
      "2       21.01  3.50    Male     No  Sun  Dinner     3\n",
      "3       23.68  3.31    Male     No  Sun  Dinner     2\n",
      "4       24.59  3.61  Female     No  Sun  Dinner     4\n"
     ]
    }
   ],
   "source": [
    "# 7 - From the Web\n",
    "url = \"https://raw.githubusercontent.com/mwaskom/seaborn-data/master/tips.csv\"\n",
    "df = pd.read_csv(url)\n",
    "# print(\"\\nDataFrame from web URL:\\n\",df)\n",
    "print(\"\\nFirst few rows of the DataFrame loaded from the web URL:\\n\", df.head())"
   ]
  }
 ],
 "metadata": {
  "kernelspec": {
   "display_name": "Pandas (3.11.13)",
   "language": "python",
   "name": "python3"
  },
  "language_info": {
   "codemirror_mode": {
    "name": "ipython",
    "version": 3
   },
   "file_extension": ".py",
   "mimetype": "text/x-python",
   "name": "python",
   "nbconvert_exporter": "python",
   "pygments_lexer": "ipython3",
   "version": "3.11.13"
  }
 },
 "nbformat": 4,
 "nbformat_minor": 5
}
